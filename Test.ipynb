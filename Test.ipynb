{
 "cells": [
  {
   "cell_type": "code",
   "execution_count": 1,
   "metadata": {},
   "outputs": [],
   "source": [
    "import os\n",
    "import settings as s\n",
    "import dill\n",
    "import pickle\n",
    "\n",
    "import torch\n",
    "import torchtext\n",
    "\n",
    "import torch.nn as nn\n",
    "\n",
    "from model import BinarySARNN\n",
    "from configs import *\n",
    "from utils import dir_to_csv, tokenize, binary_accuracy, epoch_time"
   ]
  },
  {
   "cell_type": "code",
   "execution_count": 2,
   "metadata": {},
   "outputs": [],
   "source": [
    "vocab_path = os.path.join(s.DATA_DIR, s.VOCAB_FILE)\n",
    "with open(vocab_path, \"rb\") as vf:\n",
    "    vocab = pickle.load(vf)\n",
    "    \n",
    "device = torch.device('cuda' if torch.cuda.is_available() else 'cpu')"
   ]
  },
  {
   "cell_type": "code",
   "execution_count": 3,
   "metadata": {},
   "outputs": [],
   "source": [
    "val_file = os.path.join(s.DATA_DIR, \"val.csv\")\n",
    "test_file = os.path.join(s.DATA_DIR, \"test.csv\")\n",
    "d_embedding = s.D_EMBEDDING\n",
    "\n",
    "with open(os.path.join(s.DATA_DIR, \"REVIEW.field\"), \"rb\") as reviewf:\n",
    "    REVIEW = dill.load(reviewf)\n",
    "LABEL = torchtext.data.Field(sequential=False, use_vocab=False)\n",
    "\n",
    "val = torchtext.data.TabularDataset(path=val_file, format=\"CSV\",\n",
    "                                          fields=[(\"review\", REVIEW),\n",
    "                                                  (\"label\", LABEL)],\n",
    "                                          csv_reader_params={\"delimiter\": \" \"})\n",
    "\n",
    "test = torchtext.data.TabularDataset(path=test_file, format=\"CSV\",\n",
    "                                          fields=[(\"review\", REVIEW),\n",
    "                                                  (\"label\", LABEL)],\n",
    "                                          csv_reader_params={\"delimiter\": \" \"})\n",
    "\n",
    "val_iter = torchtext.data.Iterator(val, 64, device=device, sort_within_batch = True,\n",
    "                                   sort_key=lambda x: len(x.review))\n",
    "\n",
    "test_iter = torchtext.data.Iterator(test, 64, device=device, sort_within_batch = True,\n",
    "                               sort_key=lambda x: len(x.review))\n",
    "\n"
   ]
  },
  {
   "cell_type": "code",
   "execution_count": 23,
   "metadata": {},
   "outputs": [
    {
     "data": {
      "text/plain": [
       "BinarySARNN(\n",
       "  (embed): Embedding(168994, 300)\n",
       "  (rnn): LSTM(300, 128, num_layers=2, bidirectional=True)\n",
       "  (hidden_to_label): Linear(in_features=256, out_features=2, bias=True)\n",
       ")"
      ]
     },
     "execution_count": 23,
     "metadata": {},
     "output_type": "execute_result"
    }
   ],
   "source": [
    "config = LSTM_CONFIG3\n",
    "config.vocab_size = len(vocab)\n",
    "config.d_embed = d_embedding\n",
    "\n",
    "modelc = BinarySARNN(config)\n",
    "modelc.load_state_dict(torch.load(os.path.join(s.MODELS_PATH, \"lstm_2layers_bidir|rmsprop.pt\")))\n",
    "modelc.to(device)"
   ]
  },
  {
   "cell_type": "code",
   "execution_count": null,
   "metadata": {},
   "outputs": [],
   "source": [
    "criterion = nn.modules.CrossEntropyLoss()\n",
    "\n",
    "modelt = modelc\n",
    "modelt.eval()\n",
    "tloss, tacc = 0, 0\n",
    "\n",
    "it = test_iter\n",
    "with torch.no_grad():\n",
    "    for test_batch in it:\n",
    "        treviews, treview_lengths = test_batch.review\n",
    "        tanswer = modelt(treviews, treview_lengths)\n",
    "        tacc += binary_accuracy(torch.max(tanswer, 1)[1], test_batch.label).item()\n",
    "        tloss += criterion(tanswer, test_batch.label)\n",
    "tloss /= len(it)\n",
    "tacc /= len(it)\n",
    "\n",
    "print(f\"\\tTest Loss: {tloss:.3f} | Test Acc: {tacc*100:.2f}%\\n\")"
   ]
  },
  {
   "cell_type": "code",
   "execution_count": null,
   "metadata": {},
   "outputs": [],
   "source": []
  }
 ],
 "metadata": {
  "kernelspec": {
   "display_name": "Python 3",
   "language": "python",
   "name": "python3"
  },
  "language_info": {
   "codemirror_mode": {
    "name": "ipython",
    "version": 3
   },
   "file_extension": ".py",
   "mimetype": "text/x-python",
   "name": "python",
   "nbconvert_exporter": "python",
   "pygments_lexer": "ipython3",
   "version": "3.7.3"
  }
 },
 "nbformat": 4,
 "nbformat_minor": 2
}
